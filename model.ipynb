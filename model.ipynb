{
 "cells": [
  {
   "cell_type": "code",
   "execution_count": 1,
   "id": "c6e1d38f",
   "metadata": {
    "pycharm": {
     "name": "#%%\n"
    }
   },
   "outputs": [],
   "source": [
    "import numpy as np\n",
    "import cv2\n",
    "import os\n",
    "import random\n",
    "import matplotlib.pyplot as plt\n",
    "import pickle"
   ]
  },
  {
   "cell_type": "code",
   "execution_count": 2,
   "id": "f82bbcfa",
   "metadata": {
    "pycharm": {
     "name": "#%%\n"
    }
   },
   "outputs": [],
   "source": [
    "Directory = r'C:\\Users\\mybig\\Downloads\\Driver Drowsiness\\dataset_new\\train'\n",
    "Categories = ['Closed' , 'Open']"
   ]
  },
  {
   "cell_type": "code",
   "execution_count": 3,
   "id": "b0d45f65",
   "metadata": {
    "pycharm": {
     "name": "#%%\n"
    }
   },
   "outputs": [],
   "source": [
    "img_size = 24\n",
    "data = []\n",
    "\n",
    "for category in Categories:\n",
    "    path = os.path.join(Directory,category)\n",
    "    label = Categories.index(category)\n",
    "    for img in os.listdir(path):\n",
    "        img_path = os.path.join(path, img)\n",
    "        img_arr = cv2.imread(img_path)\n",
    "        img_arr = cv2.cvtColor(img_arr, cv2.COLOR_BGR2GRAY)\n",
    "        img_arr = cv2.resize(img_arr,(img_size, img_size),1)\n",
    "        data.append([img_arr , label])"
   ]
  },
  {
   "cell_type": "code",
   "execution_count": 4,
   "id": "f38a1fe7",
   "metadata": {
    "pycharm": {
     "name": "#%%\n"
    }
   },
   "outputs": [
    {
     "data": {
      "text/plain": [
       "1234"
      ]
     },
     "execution_count": 4,
     "metadata": {},
     "output_type": "execute_result"
    }
   ],
   "source": [
    "len(data)"
   ]
  },
  {
   "cell_type": "code",
   "execution_count": 5,
   "id": "325bfd0e",
   "metadata": {
    "pycharm": {
     "name": "#%%\n"
    }
   },
   "outputs": [],
   "source": [
    "random.shuffle(data)"
   ]
  },
  {
   "cell_type": "code",
   "execution_count": 6,
   "id": "b6437a63",
   "metadata": {
    "pycharm": {
     "name": "#%%\n"
    }
   },
   "outputs": [],
   "source": [
    "X = []\n",
    "Y = []\n",
    "\n",
    "for features,label in data:\n",
    "    X.append(features)\n",
    "    Y.append(label)"
   ]
  },
  {
   "cell_type": "code",
   "execution_count": 7,
   "id": "b285067d",
   "metadata": {
    "pycharm": {
     "name": "#%%\n"
    }
   },
   "outputs": [],
   "source": [
    "X = np.array(X)\n",
    "Y = np.array(Y)"
   ]
  },
  {
   "cell_type": "code",
   "execution_count": 8,
   "id": "8d9df4f1",
   "metadata": {
    "pycharm": {
     "name": "#%%\n"
    }
   },
   "outputs": [],
   "source": [
    "pickle.dump(X , open('X.pkl' , 'wb'))\n",
    "pickle.dump(Y , open('Y.pkl' , 'wb'))"
   ]
  },
  {
   "cell_type": "code",
   "execution_count": 9,
   "id": "86ae8f9f",
   "metadata": {
    "pycharm": {
     "name": "#%%\n"
    }
   },
   "outputs": [],
   "source": [
    "X = X/255"
   ]
  },
  {
   "cell_type": "code",
   "execution_count": 10,
   "id": "72cf253a",
   "metadata": {
    "pycharm": {
     "name": "#%%\n"
    }
   },
   "outputs": [
    {
     "data": {
      "text/plain": [
       "array([[[0.66666667, 0.72941176, 0.76078431, ..., 0.89411765,\n",
       "         0.89019608, 0.91372549],\n",
       "        [0.67843137, 0.72941176, 0.75686275, ..., 0.88235294,\n",
       "         0.89019608, 0.88235294],\n",
       "        [0.68627451, 0.72941176, 0.74901961, ..., 0.8627451 ,\n",
       "         0.88235294, 0.87058824],\n",
       "        ...,\n",
       "        [0.79215686, 0.82352941, 0.82745098, ..., 0.82745098,\n",
       "         0.83137255, 0.84313725],\n",
       "        [0.78039216, 0.81960784, 0.82745098, ..., 0.82745098,\n",
       "         0.83921569, 0.84313725],\n",
       "        [0.78823529, 0.81568627, 0.82745098, ..., 0.83529412,\n",
       "         0.84705882, 0.83921569]],\n",
       "\n",
       "       [[0.38823529, 0.35686275, 0.32941176, ..., 0.48627451,\n",
       "         0.49411765, 0.48235294],\n",
       "        [0.38823529, 0.36078431, 0.29803922, ..., 0.43529412,\n",
       "         0.44705882, 0.45098039],\n",
       "        [0.40392157, 0.33333333, 0.26666667, ..., 0.38039216,\n",
       "         0.40392157, 0.41960784],\n",
       "        ...,\n",
       "        [0.5372549 , 0.49411765, 0.43137255, ..., 0.45098039,\n",
       "         0.38823529, 0.34901961],\n",
       "        [0.54117647, 0.5254902 , 0.49019608, ..., 0.44705882,\n",
       "         0.36862745, 0.34117647],\n",
       "        [0.52941176, 0.50980392, 0.48627451, ..., 0.42352941,\n",
       "         0.38039216, 0.34509804]],\n",
       "\n",
       "       [[0.43529412, 0.43137255, 0.44313725, ..., 0.3254902 ,\n",
       "         0.26666667, 0.25882353],\n",
       "        [0.39607843, 0.41176471, 0.42745098, ..., 0.3254902 ,\n",
       "         0.29019608, 0.28235294],\n",
       "        [0.38823529, 0.38823529, 0.38431373, ..., 0.36470588,\n",
       "         0.3254902 , 0.29411765],\n",
       "        ...,\n",
       "        [0.41960784, 0.40392157, 0.38431373, ..., 0.4745098 ,\n",
       "         0.46666667, 0.45490196],\n",
       "        [0.44313725, 0.43137255, 0.47058824, ..., 0.49803922,\n",
       "         0.48235294, 0.45882353],\n",
       "        [0.45882353, 0.47058824, 0.50196078, ..., 0.49411765,\n",
       "         0.50196078, 0.46666667]],\n",
       "\n",
       "       ...,\n",
       "\n",
       "       [[0.54117647, 0.54509804, 0.54901961, ..., 0.58431373,\n",
       "         0.6       , 0.58039216],\n",
       "        [0.53333333, 0.5372549 , 0.52941176, ..., 0.42352941,\n",
       "         0.51372549, 0.5254902 ],\n",
       "        [0.51372549, 0.5254902 , 0.51372549, ..., 0.3254902 ,\n",
       "         0.3372549 , 0.34901961],\n",
       "        ...,\n",
       "        [0.56862745, 0.57254902, 0.56078431, ..., 0.59607843,\n",
       "         0.6       , 0.60784314],\n",
       "        [0.58431373, 0.59215686, 0.59607843, ..., 0.59215686,\n",
       "         0.6       , 0.59215686],\n",
       "        [0.59607843, 0.60784314, 0.61176471, ..., 0.6       ,\n",
       "         0.59607843, 0.58823529]],\n",
       "\n",
       "       [[0.80392157, 0.79215686, 0.79215686, ..., 0.4627451 ,\n",
       "         0.5254902 , 0.17647059],\n",
       "        [0.80392157, 0.78823529, 0.78039216, ..., 0.45098039,\n",
       "         0.53333333, 0.27058824],\n",
       "        [0.79215686, 0.78039216, 0.78039216, ..., 0.45098039,\n",
       "         0.46666667, 0.23529412],\n",
       "        ...,\n",
       "        [0.67058824, 0.64705882, 0.63529412, ..., 0.60784314,\n",
       "         0.57647059, 0.50980392],\n",
       "        [0.67058824, 0.65098039, 0.64705882, ..., 0.61960784,\n",
       "         0.58039216, 0.49411765],\n",
       "        [0.68235294, 0.65490196, 0.65882353, ..., 0.62352941,\n",
       "         0.56862745, 0.45098039]],\n",
       "\n",
       "       [[0.14509804, 0.10196078, 0.11372549, ..., 0.56862745,\n",
       "         0.69411765, 0.74901961],\n",
       "        [0.04313725, 0.13333333, 0.16078431, ..., 0.48235294,\n",
       "         0.55294118, 0.6627451 ],\n",
       "        [0.21568627, 0.16078431, 0.22745098, ..., 0.60392157,\n",
       "         0.51372549, 0.66666667],\n",
       "        ...,\n",
       "        [0.29019608, 0.30196078, 0.30196078, ..., 0.55294118,\n",
       "         0.50196078, 0.49019608],\n",
       "        [0.29019608, 0.30980392, 0.32156863, ..., 0.50588235,\n",
       "         0.47058824, 0.48235294],\n",
       "        [0.28627451, 0.31764706, 0.34901961, ..., 0.48235294,\n",
       "         0.49411765, 0.49803922]]])"
      ]
     },
     "execution_count": 10,
     "metadata": {},
     "output_type": "execute_result"
    }
   ],
   "source": [
    "X"
   ]
  },
  {
   "cell_type": "code",
   "execution_count": 11,
   "id": "b67b73b4",
   "metadata": {
    "pycharm": {
     "name": "#%%\n"
    }
   },
   "outputs": [
    {
     "data": {
      "text/plain": [
       "(1234, 24, 24, 1)"
      ]
     },
     "execution_count": 11,
     "metadata": {},
     "output_type": "execute_result"
    }
   ],
   "source": [
    "img_rows,img_cols = 24,24\n",
    "X = X.reshape(X.shape[0],img_rows,img_cols,1)\n",
    "X.shape"
   ]
  },
  {
   "cell_type": "code",
   "execution_count": 12,
   "id": "9e4c26bc",
   "metadata": {
    "pycharm": {
     "name": "#%%\n"
    }
   },
   "outputs": [],
   "source": [
    "from keras.models import Sequential\n",
    "from keras.layers import Conv2D , MaxPooling2D , Flatten , Dense"
   ]
  },
  {
   "cell_type": "code",
   "execution_count": 13,
   "id": "607c3839",
   "metadata": {
    "pycharm": {
     "name": "#%%\n"
    }
   },
   "outputs": [],
   "source": [
    "model = Sequential()\n",
    "\n",
    "model.add(Conv2D(64 , (3,3) , activation = 'relu' , input_shape= X.shape[1:]))\n",
    "model.add(MaxPooling2D((1,1)))\n",
    "\n",
    "model.add(Conv2D(64 , (3,3) , activation = 'relu'))\n",
    "model.add(MaxPooling2D((1,1)))\n",
    "\n",
    "model.add(Conv2D(64 , (3,3) , activation = 'relu'))\n",
    "model.add(MaxPooling2D((1,1)))\n",
    "\n",
    "model.add(Flatten())\n",
    "\n",
    "model.add(Dense(128, activation = 'relu'))\n",
    "\n",
    "model.add(Dense(2, activation = 'softmax'))"
   ]
  },
  {
   "cell_type": "code",
   "execution_count": 14,
   "id": "8066bec4",
   "metadata": {
    "pycharm": {
     "name": "#%%\n"
    }
   },
   "outputs": [],
   "source": [
    "model.compile(optimizer = 'adam' , loss = 'sparse_categorical_crossentropy' , metrics = ['accuracy'])"
   ]
  },
  {
   "cell_type": "code",
   "execution_count": 15,
   "id": "c5f1f1f8",
   "metadata": {
    "pycharm": {
     "name": "#%%\n"
    }
   },
   "outputs": [
    {
     "name": "stdout",
     "output_type": "stream",
     "text": [
      "Epoch 1/5\n",
      "35/35 [==============================] - 3s 74ms/step - loss: 0.5357 - accuracy: 0.7459 - val_loss: 0.1859 - val_accuracy: 0.9435\n",
      "Epoch 2/5\n",
      "35/35 [==============================] - 2s 68ms/step - loss: 0.2210 - accuracy: 0.9216 - val_loss: 0.1029 - val_accuracy: 0.9677\n",
      "Epoch 3/5\n",
      "35/35 [==============================] - 2s 69ms/step - loss: 0.1523 - accuracy: 0.9459 - val_loss: 0.0974 - val_accuracy: 0.9597\n",
      "Epoch 4/5\n",
      "35/35 [==============================] - 3s 73ms/step - loss: 0.1166 - accuracy: 0.9550 - val_loss: 0.0903 - val_accuracy: 0.9435\n",
      "Epoch 5/5\n",
      "35/35 [==============================] - 3s 74ms/step - loss: 0.0943 - accuracy: 0.9613 - val_loss: 0.0645 - val_accuracy: 0.9758\n"
     ]
    },
    {
     "data": {
      "text/plain": [
       "<keras.callbacks.History at 0x28ad919e830>"
      ]
     },
     "execution_count": 15,
     "metadata": {},
     "output_type": "execute_result"
    }
   ],
   "source": [
    "model.fit(X, Y, epochs = 5 , validation_split = 0.1 , batch_size = 32)"
   ]
  },
  {
   "cell_type": "code",
   "execution_count": null,
   "id": "e5298fcc",
   "metadata": {
    "pycharm": {
     "name": "#%%\n"
    }
   },
   "outputs": [],
   "source": [
    "model.save(\"models/Detectionmodel.h5\")"
   ]
  }
 ],
 "metadata": {
  "kernelspec": {
   "display_name": "Python 3 (ipykernel)",
   "language": "python",
   "name": "python3"
  },
  "language_info": {
   "codemirror_mode": {
    "name": "ipython",
    "version": 3
   },
   "file_extension": ".py",
   "mimetype": "text/x-python",
   "name": "python",
   "nbconvert_exporter": "python",
   "pygments_lexer": "ipython3",
   "version": "3.10.4"
  }
 },
 "nbformat": 4,
 "nbformat_minor": 5
}